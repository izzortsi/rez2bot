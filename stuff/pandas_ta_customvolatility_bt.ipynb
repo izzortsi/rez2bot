{
    "cells": [
        {
            "cell_type": "code",
            "execution_count": 76,
            "metadata": {},
            "outputs": [],
            "source": [
                "# import finplot as fplt\n",
                "import numpy as np\n",
                "import pandas as pd\n",
                "import pandas_ta as ta\n",
                "import vectorbt as vbt\n",
                "import matplotlib.pyplot as plt\n",
                "import mplfinance as fplt\n",
                "# import pandas_bokeh\n",
                "from binance.client import Client\n",
                "# %matplotlib widget\n",
                "%matplotlib qt"
            ]
        },
        {
            "cell_type": "code",
            "execution_count": 77,
            "metadata": {},
            "outputs": [],
            "source": [
                "\n",
                "client = Client()\n",
                "\n",
                "\n",
                "symbols = ['BTCUSDT', 'ETHUSDT', 'XRPUSDT', 'BNBUSDT', 'LTCUSDT', \"ADAUSDT\", \"AXSUSDT\", \"DOTUSDT\"]\n",
                "interval = \"30m\"\n",
                "\n",
                "# symbol = \"BNBUSDT\"\n",
                "# symbol=\"AXSUSDT\"\n",
                "# symbol= \"DOTUSDT\"\n",
                "# symbol= \"LINKUSDT\"\n",
                "# symbol = \"BTCUSDT\"\n",
                "# symbol = \"ADAUSDT\"\n",
                "symbol = \"ETHUSDT\"\n",
                "# symbol = \"MANAUSDT\"\n",
                "# symbol = \"SANDUSDT\"\n",
                "# %%\n",
                "\n",
                "# %%\n",
                "klines = client.get_historical_klines(symbol, interval, \"10 day ago\")\n",
                "# klines = client.get_historical_klines(\"BNBUSDT\", interval, \"3 day ago\")\n",
                "# klines = client.get_historical_klines(\"BTCUSDT\", interval, \"3 day ago\")\n",
                "#klines = client.get_historical_klines(\"ADAUSDT\", interval, \"3 day ago\")\n",
                "# klines = client.get_historical_klines(\"ETHUSDT\", interval, \"3 day ago\")\n",
                "\n",
                "\n",
                "\n",
                "def to_datetime_tz(arg, timedelta=-pd.Timedelta(\"03:00:00\"), unit=\"s\", **kwargs):\n",
                "    \"\"\"\n",
                "    to_datetime_tz(arg, timedelta=-pd.Timedelta(\"03:00:00\"), unit=\"s\", **kwargs)\n",
                "    Args:\n",
                "        arg (float): epochtime\n",
                "        timedelta (pd.Timedelta): timezone correction\n",
                "        unit (string): unit in which `arg` is\n",
                "        **kwargs: pd.to_datetime remaining kwargs\n",
                "    Returns:\n",
                "    pd.Timestamp: a timestamp corrected by the given timedelta\n",
                "    \"\"\"\n",
                "    ts = pd.to_datetime(arg, unit=unit)\n",
                "    return ts + timedelta\n",
                "\n",
                "\n",
                "def trim_data(klines):\n",
                "\n",
                "    df = pd.DataFrame(data=klines)\n",
                "    DOHLCV = df.iloc[:, [0, 1, 2, 3, 4, 5]]\n",
                "    dates = to_datetime_tz(DOHLCV[0], timedelta =pd.Timedelta(\"00:00:00\"), unit=\"ms\")\n",
                "    OHLCV = DOHLCV.iloc[:, [1, 2, 3, 4, 5]].astype(\"float64\")\n",
                "\n",
                "    DOHLCV = pd.concat([dates, OHLCV], axis=1)\n",
                "    DOHLCV.columns = [\"date\", \"open\", \"high\", \"low\", \"close\", \"volume\"]\n",
                "    DOHLCV = DOHLCV.set_index(\"date\")\n",
                "    return DOHLCV"
            ]
        },
        {
            "cell_type": "code",
            "execution_count": 78,
            "metadata": {},
            "outputs": [],
            "source": [
                "kl = trim_data(klines)"
            ]
        },
        {
            "cell_type": "code",
            "execution_count": 79,
            "metadata": {},
            "outputs": [
                {
                    "data": {
                        "text/plain": [
                            "[0.381924,\n",
                            " 0.4858281918538693,\n",
                            " 0.618,\n",
                            " 0.7861297602813418,\n",
                            " 1.0,\n",
                            " 1.145865941776,\n",
                            " 1.1855494463455971,\n",
                            " 1.236029032,\n",
                            " 1.3002418225656913,\n",
                            " 1.381924,\n",
                            " 1.4858281918538694,\n",
                            " 1.6179999999999999,\n",
                            " 1.7861297602813417,\n",
                            " 2.0,\n",
                            " 2.145865941776,\n",
                            " 2.185549446345597,\n",
                            " 2.2360290320000002,\n",
                            " 2.3002418225656913,\n",
                            " 2.3819239999999997,\n",
                            " 2.4858281918538694,\n",
                            " 2.618,\n",
                            " 2.7861297602813417,\n",
                            " 3.0]"
                        ]
                    },
                    "execution_count": 79,
                    "metadata": {},
                    "output_type": "execute_result"
                }
            ],
            "source": [
                "w1 = 5\n",
                "\n",
                "phi = lambda i: 0.618 ** i\n",
                "phis = [phi(i/2) for i in range(5)]; phis.reverse()\n",
                "l = [1 + phi(i/2) for i in range(9)]; l.reverse()\n",
                "phis += l\n",
                "l = [1 + el for el in l]\n",
                "phis += l\n",
                "phis\n",
                "# phi(4)+phi(0)"
            ]
        },
        {
            "cell_type": "code",
            "execution_count": null,
            "metadata": {},
            "outputs": [],
            "source": []
        },
        {
            "cell_type": "code",
            "execution_count": null,
            "metadata": {},
            "outputs": [],
            "source": [
                "\n",
                "    "
            ]
        },
        {
            "cell_type": "code",
            "execution_count": 80,
            "metadata": {},
            "outputs": [],
            "source": [
                "# aberr = kl.ta.aberration()\n",
                "# d = aberr[[\"ABER_ATR_5_15\"]]\n",
                "# aberr.drop(\"ABER_ATR_5_15\", axis=1, inplace=True)\n",
                "klmeans = kl.ewm(span=w1).mean()\n",
                "klstds = kl.ewm(span=w1).std()\n",
                "# havg = kl.high.ewm(span=3)"
            ]
        },
        {
            "cell_type": "code",
            "execution_count": 81,
            "metadata": {},
            "outputs": [
                {
                    "data": {
                        "text/html": [
                            "<div>\n",
                            "<style scoped>\n",
                            "    .dataframe tbody tr th:only-of-type {\n",
                            "        vertical-align: middle;\n",
                            "    }\n",
                            "\n",
                            "    .dataframe tbody tr th {\n",
                            "        vertical-align: top;\n",
                            "    }\n",
                            "\n",
                            "    .dataframe thead th {\n",
                            "        text-align: right;\n",
                            "    }\n",
                            "</style>\n",
                            "<table border=\"1\" class=\"dataframe\">\n",
                            "  <thead>\n",
                            "    <tr style=\"text-align: right;\">\n",
                            "      <th></th>\n",
                            "      <th>open</th>\n",
                            "      <th>high</th>\n",
                            "      <th>low</th>\n",
                            "      <th>close</th>\n",
                            "      <th>volume</th>\n",
                            "    </tr>\n",
                            "    <tr>\n",
                            "      <th>date</th>\n",
                            "      <th></th>\n",
                            "      <th></th>\n",
                            "      <th></th>\n",
                            "      <th></th>\n",
                            "      <th></th>\n",
                            "    </tr>\n",
                            "  </thead>\n",
                            "  <tbody>\n",
                            "    <tr>\n",
                            "      <th>2021-11-25 20:30:00</th>\n",
                            "      <td>4521.660000</td>\n",
                            "      <td>4528.980000</td>\n",
                            "      <td>4505.710000</td>\n",
                            "      <td>4510.010000</td>\n",
                            "      <td>5531.109300</td>\n",
                            "    </tr>\n",
                            "    <tr>\n",
                            "      <th>2021-11-25 21:00:00</th>\n",
                            "      <td>4514.664000</td>\n",
                            "      <td>4527.192000</td>\n",
                            "      <td>4502.014000</td>\n",
                            "      <td>4514.240000</td>\n",
                            "      <td>5031.472080</td>\n",
                            "    </tr>\n",
                            "    <tr>\n",
                            "      <th>2021-11-25 21:30:00</th>\n",
                            "      <td>4515.813158</td>\n",
                            "      <td>4523.984211</td>\n",
                            "      <td>4495.849474</td>\n",
                            "      <td>4506.661053</td>\n",
                            "      <td>5167.188679</td>\n",
                            "    </tr>\n",
                            "    <tr>\n",
                            "      <th>2021-11-25 22:00:00</th>\n",
                            "      <td>4508.509385</td>\n",
                            "      <td>4515.006000</td>\n",
                            "      <td>4484.426615</td>\n",
                            "      <td>4500.695692</td>\n",
                            "      <td>5539.854318</td>\n",
                            "    </tr>\n",
                            "    <tr>\n",
                            "      <th>2021-11-25 22:30:00</th>\n",
                            "      <td>4502.286825</td>\n",
                            "      <td>4515.948057</td>\n",
                            "      <td>4487.191896</td>\n",
                            "      <td>4506.981564</td>\n",
                            "      <td>4623.920822</td>\n",
                            "    </tr>\n",
                            "    <tr>\n",
                            "      <th>...</th>\n",
                            "      <td>...</td>\n",
                            "      <td>...</td>\n",
                            "      <td>...</td>\n",
                            "      <td>...</td>\n",
                            "      <td>...</td>\n",
                            "    </tr>\n",
                            "    <tr>\n",
                            "      <th>2021-12-05 18:00:00</th>\n",
                            "      <td>4131.261888</td>\n",
                            "      <td>4154.875154</td>\n",
                            "      <td>4112.471073</td>\n",
                            "      <td>4134.509280</td>\n",
                            "      <td>12386.748195</td>\n",
                            "    </tr>\n",
                            "    <tr>\n",
                            "      <th>2021-12-05 18:30:00</th>\n",
                            "      <td>4134.501259</td>\n",
                            "      <td>4162.583436</td>\n",
                            "      <td>4121.477382</td>\n",
                            "      <td>4138.452853</td>\n",
                            "      <td>10256.507397</td>\n",
                            "    </tr>\n",
                            "    <tr>\n",
                            "      <th>2021-12-05 19:00:00</th>\n",
                            "      <td>4138.447506</td>\n",
                            "      <td>4158.508958</td>\n",
                            "      <td>4112.931588</td>\n",
                            "      <td>4132.505236</td>\n",
                            "      <td>9889.815264</td>\n",
                            "    </tr>\n",
                            "    <tr>\n",
                            "      <th>2021-12-05 19:30:00</th>\n",
                            "      <td>4132.498337</td>\n",
                            "      <td>4152.839305</td>\n",
                            "      <td>4108.621059</td>\n",
                            "      <td>4134.473490</td>\n",
                            "      <td>8449.585776</td>\n",
                            "    </tr>\n",
                            "    <tr>\n",
                            "      <th>2021-12-05 20:00:00</th>\n",
                            "      <td>4134.472225</td>\n",
                            "      <td>4153.886203</td>\n",
                            "      <td>4117.654039</td>\n",
                            "      <td>4139.795660</td>\n",
                            "      <td>6642.175251</td>\n",
                            "    </tr>\n",
                            "  </tbody>\n",
                            "</table>\n",
                            "<p>480 rows × 5 columns</p>\n",
                            "</div>"
                        ],
                        "text/plain": [
                            "                            open         high          low        close  \\\n",
                            "date                                                                      \n",
                            "2021-11-25 20:30:00  4521.660000  4528.980000  4505.710000  4510.010000   \n",
                            "2021-11-25 21:00:00  4514.664000  4527.192000  4502.014000  4514.240000   \n",
                            "2021-11-25 21:30:00  4515.813158  4523.984211  4495.849474  4506.661053   \n",
                            "2021-11-25 22:00:00  4508.509385  4515.006000  4484.426615  4500.695692   \n",
                            "2021-11-25 22:30:00  4502.286825  4515.948057  4487.191896  4506.981564   \n",
                            "...                          ...          ...          ...          ...   \n",
                            "2021-12-05 18:00:00  4131.261888  4154.875154  4112.471073  4134.509280   \n",
                            "2021-12-05 18:30:00  4134.501259  4162.583436  4121.477382  4138.452853   \n",
                            "2021-12-05 19:00:00  4138.447506  4158.508958  4112.931588  4132.505236   \n",
                            "2021-12-05 19:30:00  4132.498337  4152.839305  4108.621059  4134.473490   \n",
                            "2021-12-05 20:00:00  4134.472225  4153.886203  4117.654039  4139.795660   \n",
                            "\n",
                            "                           volume  \n",
                            "date                               \n",
                            "2021-11-25 20:30:00   5531.109300  \n",
                            "2021-11-25 21:00:00   5031.472080  \n",
                            "2021-11-25 21:30:00   5167.188679  \n",
                            "2021-11-25 22:00:00   5539.854318  \n",
                            "2021-11-25 22:30:00   4623.920822  \n",
                            "...                           ...  \n",
                            "2021-12-05 18:00:00  12386.748195  \n",
                            "2021-12-05 18:30:00  10256.507397  \n",
                            "2021-12-05 19:00:00   9889.815264  \n",
                            "2021-12-05 19:30:00   8449.585776  \n",
                            "2021-12-05 20:00:00   6642.175251  \n",
                            "\n",
                            "[480 rows x 5 columns]"
                        ]
                    },
                    "execution_count": 81,
                    "metadata": {},
                    "output_type": "execute_result"
                }
            ],
            "source": [
                "klmeans"
            ]
        },
        {
            "cell_type": "code",
            "execution_count": 82,
            "metadata": {},
            "outputs": [],
            "source": [
                "havg = kl.high.ewm(span=w1).mean()\n",
                "hstd = kl.high.ewm(span=w1).std()\n",
                "lavg = kl.low.ewm(span=w1).mean()\n",
                "lstd = kl.low.ewm(span=w1).std()\n",
                "close_ema = kl.close.ewm(span=w1).mean()\n",
                "close_std = kl.close.ewm(span=w1).std()\n",
                "ohlc4 = kl.ta.ohlc4(length=w1)\n"
            ]
        },
        {
            "cell_type": "code",
            "execution_count": 83,
            "metadata": {},
            "outputs": [],
            "source": [
                "supwidth = 100*(((kl.high - (kl.close + kl.open)/2))/(kl.high-kl.low))\n",
                "infwidth = 100*((((kl.close + kl.open)/2 - kl.low))/(kl.high-kl.low))"
            ]
        },
        {
            "cell_type": "code",
            "execution_count": 84,
            "metadata": {},
            "outputs": [],
            "source": [
                "csup = havg + 0.6*(hstd*2 + close_std*supwidth/100)/3\n",
                "cinf = lavg - 0.6*(lstd*2 + close_std*infwidth/100)/3\n",
                "cres = pd.concat([cinf, close_ema, csup], axis=1)"
            ]
        },
        {
            "cell_type": "code",
            "execution_count": 85,
            "metadata": {},
            "outputs": [
                {
                    "data": {
                        "text/plain": [
                            "date\n",
                            "2021-11-25 20:30:00    56.489042\n",
                            "2021-11-25 21:00:00    47.145558\n",
                            "2021-11-25 21:30:00    40.595162\n",
                            "2021-11-25 22:00:00    20.884774\n",
                            "2021-11-25 22:30:00    49.457995\n",
                            "                         ...    \n",
                            "2021-12-05 18:00:00    56.972955\n",
                            "2021-12-05 18:30:00    89.171644\n",
                            "2021-12-05 19:00:00    30.970286\n",
                            "2021-12-05 19:30:00    28.903614\n",
                            "2021-12-05 20:00:00    57.008885\n",
                            "Length: 480, dtype: float64"
                        ]
                    },
                    "execution_count": 85,
                    "metadata": {},
                    "output_type": "execute_result"
                }
            ],
            "source": [
                "supwidth"
            ]
        },
        {
            "cell_type": "code",
            "execution_count": 86,
            "metadata": {},
            "outputs": [],
            "source": [
                "\n",
                "width = 100*(abs((kl.close - kl.open))/(kl.high-kl.low))"
            ]
        },
        {
            "cell_type": "code",
            "execution_count": 87,
            "metadata": {},
            "outputs": [
                {
                    "data": {
                        "text/plain": [
                            "DatetimeIndex(['2021-11-25 20:30:00', '2021-11-25 21:00:00',\n",
                            "               '2021-11-25 21:30:00', '2021-11-25 22:00:00',\n",
                            "               '2021-11-25 22:30:00', '2021-11-25 23:00:00',\n",
                            "               '2021-11-25 23:30:00', '2021-11-26 00:00:00',\n",
                            "               '2021-11-26 00:30:00', '2021-11-26 01:00:00',\n",
                            "               ...\n",
                            "               '2021-12-05 15:30:00', '2021-12-05 16:00:00',\n",
                            "               '2021-12-05 16:30:00', '2021-12-05 17:00:00',\n",
                            "               '2021-12-05 17:30:00', '2021-12-05 18:00:00',\n",
                            "               '2021-12-05 18:30:00', '2021-12-05 19:00:00',\n",
                            "               '2021-12-05 19:30:00', '2021-12-05 20:00:00'],\n",
                            "              dtype='datetime64[ns]', name='date', length=480, freq=None)"
                        ]
                    },
                    "execution_count": 87,
                    "metadata": {},
                    "output_type": "execute_result"
                }
            ],
            "source": [
                "kl.index"
            ]
        },
        {
            "cell_type": "code",
            "execution_count": 88,
            "metadata": {},
            "outputs": [
                {
                    "data": {
                        "text/plain": [
                            "<matplotlib.collections.LineCollection at 0x1d95da0f790>"
                        ]
                    },
                    "execution_count": 88,
                    "metadata": {},
                    "output_type": "execute_result"
                }
            ],
            "source": [
                "df = kl\n",
                "\n",
                "# pstd2 = df.close.ewm(span=w2).std()\n",
                "\n",
                "# def showcurves(c1):\n",
                "\n",
                "#   fig, ax = plt.subplots()\n",
                "#   ax.set_title('click on points')\n",
                "\n",
                "#   line, = ax.plot(np.random.rand(100), 'o',\n",
                "#                   picker=True, pickradius=5)  # 5 points tolerance\n",
                "#   plt.show()\n",
                "\n",
                "#   return fig, ax, lineaa\n",
                "\n",
                "\n",
                "fig, axs = plt.subplots(figsize=(14, 12), nrows=2, sharex=\"all\", gridspec_kw={\"height_ratios\": [3, 1]})\n",
                "# fig = plt.figure(figsize=(12, 12))\n",
                "# ax = plt.axes()\n",
                "ax1, ax2 = axs\n",
                "\n",
                "ax1.plot(df.close, c=\"w\", label=f\"closes\", linewidth=2)\n",
                "for i, phi_i in enumerate(phis):\n",
                "    # csup = df.close + phi_i*(hstd + close_std*supwidth/100)/2\n",
                "    # cinf = df.close - phi_i*(lstd + close_std*infwidth/100)/2\n",
                "    csup = close_ema + phi_i*(hstd + close_std*supwidth/100)/2\n",
                "    cinf = close_ema - phi_i*(lstd + close_std*infwidth/100)/2\n",
                "    \n",
                "    ax1.plot(csup, \"c--\", label=f\"closes {w1} ema\", linewidth=1.5-0.05*i)\n",
                "    ax1.plot(cinf, \"c--\", label=f\"closes {w1} ema\", linewidth=1.5-0.05*i)\n",
                "\n",
                "\n",
                "ax1.plot(close_ema, \"y-\", linewidth=2, label=f\"closes {w1} ema\", alpha=1)\n",
                "\n",
                "# ax1.plot(pmean1+1.1*pstd1, \"g--\", label=f\"closes {w1} ema\", linewidth=1.5)\n",
                "# ax1.plot(pmean1-1.1*pstd1, \"r--\", label=f\"closes {w1} ema\", linewidth=1.5)\n",
                "# ax1.plot(pmean1+1.25*pstd1, \"g--\", label=f\"closes {w1} ema\", linewidth=1.0)\n",
                "# ax1.plot(pmean1-1.25*pstd1, \"r--\", label=f\"closes {w1} ema\", linewidth=1.0)\n",
                "# ax1.plot(pmean1+1.5*pstd1, \"g--\", label=f\"closes {w1} ema\", linewidth=1.0)\n",
                "# ax1.plot(pmean1-1.5*pstd1, \"r--\", label=f\"closes {w1} ema\", linewidth=1.0)\n",
                "# ax1.plot(pmean1+1.75*pstd1, \"g--\", label=f\"closes {w1} ema\", linewidth=1.0)\n",
                "# ax1.plot(pmean1-1.75*pstd1, \"r--\", label=f\"closes {w1} ema\", linewidth=1.0)\n",
                "# ax1.plot(pmean1, \"y-\", linewidth=2, label=f\"closes {w1} ema\", alpha=1)\n",
                "# ax1.plot(pmean2, \"y--\", linewidth=2, label=f\"closes {w2} ema\", alpha=1)\n",
                "# ax1.plot(pmean2+0.8*pstd2, \"g-.\", alpha=1, linewidth=1.5)\n",
                "# ax1.plot(pmean2-0.8*pstd2, \"r-.\", alpha=1, linewidth=1.5)\n",
                "\n",
                "macd = kl.ta.macd()\n",
                "hist = macd.MACDh_12_26_9\n",
                "hist_diffs = hist - hist.shift(1)\n",
                "hist_colors = [\"green\" if c > 0 else \"red\" for c in hist_diffs]\n",
                "\n",
                "hist_ema = hist.ewm(span=w1).mean()\n",
                "hist_ema_diffs = hist_ema - hist_ema.shift(1)\n",
                "\n",
                "hist_ema_colors = [\"green\" if c > 0 else \"red\" for c in hist_ema_diffs]\n",
                "\n",
                "ax2.plot(hist, c=\"b\", label=f\"macd histogram\", linewidth=1.5)\n",
                "ax2.scatter(hist.index, hist, c=hist_colors, label=f\"macd histogram\", linewidth=0.7)\n",
                "ax2.plot(hist_ema, c=\"y\", label=f\"macd histogram ema\", linewidth=1.5)\n",
                "ax2.scatter(hist_ema.index, hist_ema, c=hist_ema_colors, label=f\"macd histogram ema\", linewidth=0.7)\n",
                "# ax2.plot(pmean1+1.1*pstd1, \"m--\", label=f\"closes {w1} ema\", linewidth=1.5)\n",
                "# ax2.plot(pmean1-1.1*pstd1, \"m--\", label=f\"closes {w1} ema\", linewidth=1.5)\n",
                "# ax2.plot(pmean1, \"b-\", linewidth=2, label=f\"closes {w1} ema\", alpha=0.8)\n",
                "# ax2.plot(pmean2, \"y-\", linewidth=2, label=f\"closes {w2} ema\", alpha=0.8)\n",
                "# ax2.plot(pmean2+0.8*pstd2, \"g-.\", alpha=0.8)\n",
                "# ax2.plot(pmean2-0.8*pstd2, \"r-.\", alpha=0.8)\n",
                "# ax2.plot(hmean2, \"g--\", alpha=1)\n",
                "# ax2.plot(lmean2, \"r--\", alpha=1)\n",
                "# ax2.plot(hmean3, \"g-\", alpha=1)\n",
                "# ax2.plot(lmean3, \"r-\", alpha=1)\n",
                "# including upper limits\n",
                "\n",
                "yerrs = [df.high-df.close, df.low-df.close]\n",
                "\n",
                "mom1 = df.close - df.close.shift(1)\n",
                "\n",
                "colors = [\"green\" if c > 0 else \"red\" for c in mom1]\n",
                "ax1.vlines(df.index, ymin=df.close+yerrs[1], ymax=yerrs[0]+df.close, color=colors, alpha=1)\n"
            ]
        },
        {
            "cell_type": "code",
            "execution_count": null,
            "metadata": {},
            "outputs": [],
            "source": []
        },
        {
            "cell_type": "code",
            "execution_count": 89,
            "metadata": {},
            "outputs": [],
            "source": [
                "fig, axs = plt.subplots(2, 1, figsize=(12, 7), sharex=True, gridspec_kw={'height_ratios': [4, 1]})\n",
                "\n",
                "# bbplot = fplt.make_addplot(bands, ax=axs[0], linestyle=\"--\", ylabel=\"BBands\")\n",
                "hlplot = fplt.make_addplot(cres, ax=axs[0], ylabel=\"Highs/Lows EMAs\")\n",
                "cr_width = fplt.make_addplot(width, ax=axs[1])\n",
                "cs_width = fplt.make_addplot(supwidth, ax=axs[1])\n",
                "ci_width = fplt.make_addplot(infwidth, ax=axs[1], ylabel=\"sup and infwidth\")\n",
                "fplt.plot(kl, type=\"candle\", ax=axs[0], addplot=[cr_width, cs_width, ci_width, hlplot])\n",
                "# fplt.plot(kl, type=\"candle\", ax=axs[0], addplot=[bbplot, bbwidth, hlplot])\n"
            ]
        },
        {
            "cell_type": "code",
            "execution_count": 90,
            "metadata": {},
            "outputs": [],
            "source": [
                "longs = ta.below(kl.low, close_ema - close_std*1.2).astype(\"bool\") & (ta.above(hist, hist*0).astype(\"bool\") & ta.increasing(hist_ema).astype(\"bool\"))\n",
                "shorts = ta.above(kl.high, close_ema + close_std*1).astype(\"bool\")"
            ]
        },
        {
            "cell_type": "code",
            "execution_count": 91,
            "metadata": {},
            "outputs": [],
            "source": [
                " pf = vbt.Portfolio.from_signals(\n",
                "     kl.close,\n",
                "     entries=longs,\n",
                "     size=1.,\n",
                "     sl_stop=0.01, tp_stop=0.4,\n",
                "     accumulate=False,\n",
                "     fees=0.001)\n",
                "# bt = vbt.Portfolio.from_signals(kl.close, entries=longs, short_entries=shorts, init_cash=100_000, fees=0.0006)"
            ]
        },
        {
            "cell_type": "code",
            "execution_count": 92,
            "metadata": {},
            "outputs": [
                {
                    "data": {
                        "text/plain": [
                            "-0.06814692243289033"
                        ]
                    },
                    "execution_count": 92,
                    "metadata": {},
                    "output_type": "execute_result"
                }
            ],
            "source": [
                "pf.benchmark_rets().sum()"
            ]
        },
        {
            "cell_type": "code",
            "execution_count": 93,
            "metadata": {},
            "outputs": [],
            "source": [
                "longs_starts = longs.index[longs.values == True].tolist()\n",
                "shorts_starts = shorts.index[shorts.values == True].tolist()"
            ]
        },
        {
            "cell_type": "code",
            "execution_count": 94,
            "metadata": {},
            "outputs": [
                {
                    "data": {
                        "text/plain": [
                            "True"
                        ]
                    },
                    "execution_count": 94,
                    "metadata": {},
                    "output_type": "execute_result"
                }
            ],
            "source": [
                "longs_starts[0] < longs_starts[1]"
            ]
        },
        {
            "cell_type": "code",
            "execution_count": 95,
            "metadata": {},
            "outputs": [
                {
                    "data": {
                        "text/plain": [
                            "(True, 4075.41, 4053.76, 4023.0)"
                        ]
                    },
                    "execution_count": 95,
                    "metadata": {},
                    "output_type": "execute_result"
                }
            ],
            "source": [
                "longs[longs_starts[0]], kl.high[longs_starts[0]], kl.close[longs_starts[0]], kl.low[longs_starts[0]]"
            ]
        },
        {
            "cell_type": "code",
            "execution_count": 96,
            "metadata": {},
            "outputs": [
                {
                    "data": {
                        "text/plain": [
                            "Timestamp('2021-11-26 16:00:00')"
                        ]
                    },
                    "execution_count": 96,
                    "metadata": {},
                    "output_type": "execute_result"
                }
            ],
            "source": [
                "l1 = longs_starts[0]\n",
                "l1"
            ]
        },
        {
            "cell_type": "code",
            "execution_count": 97,
            "metadata": {},
            "outputs": [],
            "source": [
                "tp = 1.5\n",
                "sl = 1.2\n",
                "fee = 0.1"
            ]
        },
        {
            "cell_type": "code",
            "execution_count": 98,
            "metadata": {},
            "outputs": [
                {
                    "data": {
                        "text/plain": [
                            "(Timestamp('2021-11-26 16:30:00'), 4103.08, 4023.0)"
                        ]
                    },
                    "execution_count": 98,
                    "metadata": {},
                    "output_type": "execute_result"
                }
            ],
            "source": [
                "\n",
                "hits1 = kl.high[l1:] > kl.low[l1]*(1+tp/100)\n",
                "exit1 = hits1[1:].idxmax()\n",
                "exit1, kl.high[exit1], kl.low[l1]"
            ]
        },
        {
            "cell_type": "code",
            "execution_count": 99,
            "metadata": {},
            "outputs": [],
            "source": [
                "\n",
                "sl_hits1 = kl.low[l1:] < kl.low[l1]*(1-sl/100)\n",
                "sl_exit1 = sl_hits1[1:].idxmax()"
            ]
        },
        {
            "cell_type": "code",
            "execution_count": 100,
            "metadata": {},
            "outputs": [
                {
                    "data": {
                        "text/plain": [
                            "Timestamp('2021-11-26 16:30:00')"
                        ]
                    },
                    "execution_count": 100,
                    "metadata": {},
                    "output_type": "execute_result"
                }
            ],
            "source": [
                "hits = (kl.low[l1:] < kl.low[l1]*(1-sl/100)) | (kl.high[l1:] > kl.low[l1]*(1+tp/100))\n",
                "hit = hits[1:].idxmax()\n",
                "hit"
            ]
        },
        {
            "cell_type": "code",
            "execution_count": null,
            "metadata": {},
            "outputs": [],
            "source": []
        },
        {
            "cell_type": "code",
            "execution_count": 101,
            "metadata": {},
            "outputs": [],
            "source": [
                "def bench_signals(close, csup, high, cinf, low, longs_starts, shorts_starts, tp=1.3, sl=1.1, fees=0.1):\n",
                "    \n",
                "    longs_rets = []\n",
                "    shorts_rets = []\n",
                "    \n",
                "    searching=True\n",
                "    i = 0\n",
                "    ts = longs_starts[i]\n",
                "    c = 0\n",
                "    while searching:\n",
                "        \n",
                "        entry_val = cinf[ts]\n",
                "        tphits = high[ts:] > entry_val*(1+tp/100) \n",
                "        slhits = low[ts:] < entry_val*(1-sl/100)\n",
                "        tphit = tphits[1:].idxmax()\n",
                "        slhit = slhits[1:].idxmax()\n",
                "        istp = True if tphit < slhit else False\n",
                "\n",
                "        c += 1\n",
                "        if istp == True:\n",
                "            exit_ts = tphit\n",
                "            exit_val = entry_val*(1+tp/100)\n",
                "            ret = (exit_val - entry_val - (exit_val*fee/200 + entry_val*fee/200)) / entry_val\n",
                "            longs_rets.append([ts, entry_val, exit_ts, exit_val, ret])\n",
                "        else:\n",
                "            exit_ts = slhit\n",
                "            exit_val = entry_val*(1-sl/100)\n",
                "            ret = (exit_val - entry_val - (exit_val*fee/200 + entry_val*fee/200)) / entry_val\n",
                "            longs_rets.append([ts, entry_val, exit_ts, exit_val, ret])\n",
                "        \n",
                "        for j, ts_ in enumerate(longs_starts[i:]):\n",
                "            if ts_ > exit_ts:\n",
                "                assert longs_starts[i+j] == ts_\n",
                "                ts = ts_\n",
                "                i += j\n",
                "                break\n",
                "        if ts == max(longs_starts) or c > len(longs_starts):\n",
                "            return longs_rets\n",
                "            \n",
                "\n",
                "\n",
                "        \n",
                "        "
            ]
        },
        {
            "cell_type": "code",
            "execution_count": 102,
            "metadata": {},
            "outputs": [],
            "source": [
                "long_rets = bench_signals(kl.close, csup, kl.high, cinf, kl.low, longs_starts, shorts_starts, tp=6, sl=0.1)"
            ]
        },
        {
            "cell_type": "code",
            "execution_count": 103,
            "metadata": {},
            "outputs": [
                {
                    "data": {
                        "text/plain": [
                            "array([[Timestamp('2021-11-26 16:00:00'), 3994.662235319535,\n",
                            "        Timestamp('2021-11-28 02:30:00'), 3990.6675730842153,\n",
                            "        -0.001999500000000001],\n",
                            "       [Timestamp('2021-11-28 09:30:00'), 4033.343937630725,\n",
                            "        Timestamp('2021-11-28 17:30:00'), 4029.3105936930942,\n",
                            "        -0.0019995000000000403],\n",
                            "       [Timestamp('2021-12-02 01:00:00'), 4540.653209348748,\n",
                            "        Timestamp('2021-12-02 01:30:00'), 4813.092401909673,\n",
                            "        0.05897000000000008],\n",
                            "       [Timestamp('2021-12-02 06:30:00'), 4474.791559126617,\n",
                            "        Timestamp('2021-12-02 07:00:00'), 4743.279052674215,\n",
                            "        0.05897000000000006],\n",
                            "       [Timestamp('2021-12-02 09:30:00'), 4519.53918341571,\n",
                            "        Timestamp('2021-12-02 10:00:00'), 4790.711534420653,\n",
                            "        0.058970000000000154],\n",
                            "       [Timestamp('2021-12-02 15:30:00'), 4479.186297107007,\n",
                            "        Timestamp('2021-12-02 16:00:00'), 4747.937474933427,\n",
                            "        0.05897000000000006],\n",
                            "       [Timestamp('2021-12-04 01:30:00'), 4102.9973360190725,\n",
                            "        Timestamp('2021-12-04 02:00:00'), 4349.177176180217,\n",
                            "        0.05897000000000015],\n",
                            "       [Timestamp('2021-12-04 02:30:00'), 4105.0939236668455,\n",
                            "        Timestamp('2021-12-04 03:00:00'), 4100.988829743179,\n",
                            "        -0.001999499999999933],\n",
                            "       [Timestamp('2021-12-04 10:30:00'), 3815.3386042577113,\n",
                            "        Timestamp('2021-12-04 11:00:00'), 3811.5232656534536,\n",
                            "        -0.0019994999999999982],\n",
                            "       [Timestamp('2021-12-04 11:30:00'), 3791.212734811992,\n",
                            "        Timestamp('2021-12-04 12:00:00'), 3787.4215220771803,\n",
                            "        -0.001999499999999944],\n",
                            "       [Timestamp('2021-12-04 11:30:00'), 3791.212734811992,\n",
                            "        Timestamp('2021-12-04 12:00:00'), 3787.4215220771803,\n",
                            "        -0.001999499999999944],\n",
                            "       [Timestamp('2021-12-04 11:30:00'), 3791.212734811992,\n",
                            "        Timestamp('2021-12-04 12:00:00'), 3787.4215220771803,\n",
                            "        -0.001999499999999944],\n",
                            "       [Timestamp('2021-12-04 11:30:00'), 3791.212734811992,\n",
                            "        Timestamp('2021-12-04 12:00:00'), 3787.4215220771803,\n",
                            "        -0.001999499999999944],\n",
                            "       [Timestamp('2021-12-04 11:30:00'), 3791.212734811992,\n",
                            "        Timestamp('2021-12-04 12:00:00'), 3787.4215220771803,\n",
                            "        -0.001999499999999944],\n",
                            "       [Timestamp('2021-12-04 11:30:00'), 3791.212734811992,\n",
                            "        Timestamp('2021-12-04 12:00:00'), 3787.4215220771803,\n",
                            "        -0.001999499999999944]], dtype=object)"
                        ]
                    },
                    "execution_count": 103,
                    "metadata": {},
                    "output_type": "execute_result"
                }
            ],
            "source": [
                "rets_arr = np.array(long_rets)\n",
                "rets_arr"
            ]
        },
        {
            "cell_type": "code",
            "execution_count": 104,
            "metadata": {},
            "outputs": [
                {
                    "data": {
                        "text/plain": [
                            "array([-0.001999500000000001, -0.0019995000000000403, 0.05897000000000008,\n",
                            "       0.05897000000000006, 0.058970000000000154, 0.05897000000000006,\n",
                            "       0.05897000000000015, -0.001999499999999933, -0.0019994999999999982,\n",
                            "       -0.001999499999999944, -0.001999499999999944,\n",
                            "       -0.001999499999999944, -0.001999499999999944,\n",
                            "       -0.001999499999999944, -0.001999499999999944], dtype=object)"
                        ]
                    },
                    "execution_count": 104,
                    "metadata": {},
                    "output_type": "execute_result"
                }
            ],
            "source": [
                "rets = rets_arr[:, 4]\n",
                "rets\n"
            ]
        },
        {
            "cell_type": "code",
            "execution_count": 105,
            "metadata": {},
            "outputs": [
                {
                    "data": {
                        "text/plain": [
                            "0.27485500000000096"
                        ]
                    },
                    "execution_count": 105,
                    "metadata": {},
                    "output_type": "execute_result"
                }
            ],
            "source": [
                "sum(rets)"
            ]
        },
        {
            "cell_type": "code",
            "execution_count": 73,
            "metadata": {},
            "outputs": [],
            "source": [
                "retdf = pd.DataFrame(rets_arr, columns=[\"entry_date\", \"entry_value\", \"exit_date\", \"exit_value\", \"percentual_return\"])"
            ]
        },
        {
            "cell_type": "code",
            "execution_count": 74,
            "metadata": {},
            "outputs": [],
            "source": [
                "# retdf.to_csv(path_or_buf=\"ada_bench.csv\")\n",
                "# retdf.to_csv(path_or_buf=\"eth_bench.csv\")\n",
                "#retdf.to_csv(path_or_buf=\"btc_bench.csv\")\n",
                "# retdf.to_csv(path_or_buf=\"bnb_bench.csv\")\n",
                "retdf.to_csv(path_or_buf=f\"{symbol}_bench.csv\")"
            ]
        },
        {
            "cell_type": "code",
            "execution_count": null,
            "metadata": {},
            "outputs": [],
            "source": []
        }
    ],
    "metadata": {
        "interpreter": {
            "hash": "767d51c1340bd893661ea55ea3124f6de3c7a262a8b4abca0554b478b1e2ff90"
        },
        "kernelspec": {
            "display_name": "Python 3.9.7 64-bit",
            "name": "python3"
        },
        "language_info": {
            "codemirror_mode": {
                "name": "ipython",
                "version": 3
            },
            "file_extension": ".py",
            "mimetype": "text/x-python",
            "name": "python",
            "nbconvert_exporter": "python",
            "pygments_lexer": "ipython3",
            "version": "3.9.7"
        },
        "orig_nbformat": 4
    },
    "nbformat": 4,
    "nbformat_minor": 2
}
